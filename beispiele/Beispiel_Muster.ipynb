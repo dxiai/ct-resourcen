{
 "cells": [
  {
   "cell_type": "code",
   "execution_count": 1,
   "metadata": {},
   "outputs": [
    {
     "name": "stderr",
     "output_type": "stream",
     "text": [
      "── \u001b[1mAttaching packages\u001b[22m ─────────────────────────────────────── tidyverse 1.3.0 ──\n",
      "\n",
      "\u001b[32m✔\u001b[39m \u001b[34mggplot2\u001b[39m 3.3.2     \u001b[32m✔\u001b[39m \u001b[34mpurrr  \u001b[39m 0.3.4\n",
      "\u001b[32m✔\u001b[39m \u001b[34mtibble \u001b[39m 3.0.3     \u001b[32m✔\u001b[39m \u001b[34mdplyr  \u001b[39m 1.0.2\n",
      "\u001b[32m✔\u001b[39m \u001b[34mtidyr  \u001b[39m 1.1.2     \u001b[32m✔\u001b[39m \u001b[34mstringr\u001b[39m 1.4.0\n",
      "\u001b[32m✔\u001b[39m \u001b[34mreadr  \u001b[39m 1.3.1     \u001b[32m✔\u001b[39m \u001b[34mforcats\u001b[39m 0.5.0\n",
      "\n",
      "── \u001b[1mConflicts\u001b[22m ────────────────────────────────────────── tidyverse_conflicts() ──\n",
      "\u001b[31m✖\u001b[39m \u001b[34mdplyr\u001b[39m::\u001b[32mfilter()\u001b[39m masks \u001b[34mstats\u001b[39m::filter()\n",
      "\u001b[31m✖\u001b[39m \u001b[34mdplyr\u001b[39m::\u001b[32mlag()\u001b[39m    masks \u001b[34mstats\u001b[39m::lag()\n",
      "\n"
     ]
    }
   ],
   "source": [
    "library(tidyverse)"
   ]
  },
  {
   "cell_type": "markdown",
   "metadata": {},
   "source": [
    "Als erstes erstellen wir unseren Datensatz mit den beobachteten Werten. Wir fügen gleich die beobachteten Positionen ein."
   ]
  },
  {
   "cell_type": "code",
   "execution_count": 160,
   "metadata": {},
   "outputs": [],
   "source": [
    "Muster = tibble( dreiecke = c(5, 8, 14, 17, 26), position = 1: length(dreiecke))"
   ]
  },
  {
   "cell_type": "markdown",
   "metadata": {},
   "source": [
    "Differenzen zwischen den gefundenen Dreiecken ermitteln."
   ]
  },
  {
   "cell_type": "code",
   "execution_count": 161,
   "metadata": {},
   "outputs": [
    {
     "data": {
      "text/html": [
       "<table>\n",
       "<caption>A tibble: 5 × 3</caption>\n",
       "<thead>\n",
       "\t<tr><th scope=col>dreiecke</th><th scope=col>position</th><th scope=col>s</th></tr>\n",
       "\t<tr><th scope=col>&lt;dbl&gt;</th><th scope=col>&lt;int&gt;</th><th scope=col>&lt;dbl&gt;</th></tr>\n",
       "</thead>\n",
       "<tbody>\n",
       "\t<tr><td> 5</td><td>1</td><td>5</td></tr>\n",
       "\t<tr><td> 8</td><td>2</td><td>3</td></tr>\n",
       "\t<tr><td>14</td><td>3</td><td>6</td></tr>\n",
       "\t<tr><td>17</td><td>4</td><td>3</td></tr>\n",
       "\t<tr><td>26</td><td>5</td><td>9</td></tr>\n",
       "</tbody>\n",
       "</table>\n"
      ],
      "text/latex": [
       "A tibble: 5 × 3\n",
       "\\begin{tabular}{lll}\n",
       " dreiecke & position & s\\\\\n",
       " <dbl> & <int> & <dbl>\\\\\n",
       "\\hline\n",
       "\t  5 & 1 & 5\\\\\n",
       "\t  8 & 2 & 3\\\\\n",
       "\t 14 & 3 & 6\\\\\n",
       "\t 17 & 4 & 3\\\\\n",
       "\t 26 & 5 & 9\\\\\n",
       "\\end{tabular}\n"
      ],
      "text/markdown": [
       "\n",
       "A tibble: 5 × 3\n",
       "\n",
       "| dreiecke &lt;dbl&gt; | position &lt;int&gt; | s &lt;dbl&gt; |\n",
       "|---|---|---|\n",
       "|  5 | 1 | 5 |\n",
       "|  8 | 2 | 3 |\n",
       "| 14 | 3 | 6 |\n",
       "| 17 | 4 | 3 |\n",
       "| 26 | 5 | 9 |\n",
       "\n"
      ],
      "text/plain": [
       "  dreiecke position s\n",
       "1  5       1        5\n",
       "2  8       2        3\n",
       "3 14       3        6\n",
       "4 17       4        3\n",
       "5 26       5        9"
      ]
     },
     "metadata": {},
     "output_type": "display_data"
    }
   ],
   "source": [
    "Muster %>%\n",
    "    mutate(s = dreiecke - lag(dreiecke, default = 0)) -> MusterDifferenzen\n",
    "\n",
    "MusterDifferenzen"
   ]
  },
  {
   "cell_type": "markdown",
   "metadata": {},
   "source": [
    "Quotienten für die Positionskorrektur ermitteln."
   ]
  },
  {
   "cell_type": "code",
   "execution_count": 169,
   "metadata": {},
   "outputs": [
    {
     "data": {
      "text/html": [
       "<table>\n",
       "<caption>A tibble: 5 × 5</caption>\n",
       "<thead>\n",
       "\t<tr><th scope=col>dreiecke</th><th scope=col>position</th><th scope=col>s</th><th scope=col>korrektur</th><th scope=col>position_korrigiert</th></tr>\n",
       "\t<tr><th scope=col>&lt;dbl&gt;</th><th scope=col>&lt;int&gt;</th><th scope=col>&lt;dbl&gt;</th><th scope=col>&lt;dbl&gt;</th><th scope=col>&lt;dbl&gt;</th></tr>\n",
       "</thead>\n",
       "<tbody>\n",
       "\t<tr><td> 5</td><td>1</td><td>5</td><td>0</td><td>1</td></tr>\n",
       "\t<tr><td> 8</td><td>2</td><td>3</td><td>0</td><td>2</td></tr>\n",
       "\t<tr><td>14</td><td>3</td><td>6</td><td>1</td><td>4</td></tr>\n",
       "\t<tr><td>17</td><td>4</td><td>3</td><td>0</td><td>5</td></tr>\n",
       "\t<tr><td>26</td><td>5</td><td>9</td><td>2</td><td>8</td></tr>\n",
       "</tbody>\n",
       "</table>\n"
      ],
      "text/latex": [
       "A tibble: 5 × 5\n",
       "\\begin{tabular}{lllll}\n",
       " dreiecke & position & s & korrektur & position\\_korrigiert\\\\\n",
       " <dbl> & <int> & <dbl> & <dbl> & <dbl>\\\\\n",
       "\\hline\n",
       "\t  5 & 1 & 5 & 0 & 1\\\\\n",
       "\t  8 & 2 & 3 & 0 & 2\\\\\n",
       "\t 14 & 3 & 6 & 1 & 4\\\\\n",
       "\t 17 & 4 & 3 & 0 & 5\\\\\n",
       "\t 26 & 5 & 9 & 2 & 8\\\\\n",
       "\\end{tabular}\n"
      ],
      "text/markdown": [
       "\n",
       "A tibble: 5 × 5\n",
       "\n",
       "| dreiecke &lt;dbl&gt; | position &lt;int&gt; | s &lt;dbl&gt; | korrektur &lt;dbl&gt; | position_korrigiert &lt;dbl&gt; |\n",
       "|---|---|---|---|---|\n",
       "|  5 | 1 | 5 | 0 | 1 |\n",
       "|  8 | 2 | 3 | 0 | 2 |\n",
       "| 14 | 3 | 6 | 1 | 4 |\n",
       "| 17 | 4 | 3 | 0 | 5 |\n",
       "| 26 | 5 | 9 | 2 | 8 |\n",
       "\n"
      ],
      "text/plain": [
       "  dreiecke position s korrektur position_korrigiert\n",
       "1  5       1        5 0         1                  \n",
       "2  8       2        3 0         2                  \n",
       "3 14       3        6 1         4                  \n",
       "4 17       4        3 0         5                  \n",
       "5 26       5        9 2         8                  "
      ]
     },
     "metadata": {},
     "output_type": "display_data"
    }
   ],
   "source": [
    "MusterDifferenzen %>%\n",
    "    mutate(korrektur = s %/% 3 - 1,\n",
    "           position_korrigiert = position + cumsum(korrektur)) \n"
   ]
  },
  {
   "cell_type": "markdown",
   "metadata": {},
   "source": [
    "Kontrolle über die vermutete Generatorfunktion und über die Sequenz mit Schrittweite. die Positionen 1, 2, 4,5 und 8 müssen mit unseren Beobachtungen übereinstimmen!"
   ]
  },
  {
   "cell_type": "code",
   "execution_count": 167,
   "metadata": {},
   "outputs": [
    {
     "data": {
      "text/html": [
       "<table>\n",
       "<caption>A tibble: 8 × 3</caption>\n",
       "<thead>\n",
       "\t<tr><th scope=col>position</th><th scope=col>muster_generiert</th><th scope=col>muster_sequenz</th></tr>\n",
       "\t<tr><th scope=col>&lt;int&gt;</th><th scope=col>&lt;dbl&gt;</th><th scope=col>&lt;dbl&gt;</th></tr>\n",
       "</thead>\n",
       "<tbody>\n",
       "\t<tr><td>1</td><td> 5</td><td> 5</td></tr>\n",
       "\t<tr><td>2</td><td> 8</td><td> 8</td></tr>\n",
       "\t<tr><td>3</td><td>11</td><td>11</td></tr>\n",
       "\t<tr><td>4</td><td>14</td><td>14</td></tr>\n",
       "\t<tr><td>5</td><td>17</td><td>17</td></tr>\n",
       "\t<tr><td>6</td><td>20</td><td>20</td></tr>\n",
       "\t<tr><td>7</td><td>23</td><td>23</td></tr>\n",
       "\t<tr><td>8</td><td>26</td><td>26</td></tr>\n",
       "</tbody>\n",
       "</table>\n"
      ],
      "text/latex": [
       "A tibble: 8 × 3\n",
       "\\begin{tabular}{lll}\n",
       " position & muster\\_generiert & muster\\_sequenz\\\\\n",
       " <int> & <dbl> & <dbl>\\\\\n",
       "\\hline\n",
       "\t 1 &  5 &  5\\\\\n",
       "\t 2 &  8 &  8\\\\\n",
       "\t 3 & 11 & 11\\\\\n",
       "\t 4 & 14 & 14\\\\\n",
       "\t 5 & 17 & 17\\\\\n",
       "\t 6 & 20 & 20\\\\\n",
       "\t 7 & 23 & 23\\\\\n",
       "\t 8 & 26 & 26\\\\\n",
       "\\end{tabular}\n"
      ],
      "text/markdown": [
       "\n",
       "A tibble: 8 × 3\n",
       "\n",
       "| position &lt;int&gt; | muster_generiert &lt;dbl&gt; | muster_sequenz &lt;dbl&gt; |\n",
       "|---|---|---|\n",
       "| 1 |  5 |  5 |\n",
       "| 2 |  8 |  8 |\n",
       "| 3 | 11 | 11 |\n",
       "| 4 | 14 | 14 |\n",
       "| 5 | 17 | 17 |\n",
       "| 6 | 20 | 20 |\n",
       "| 7 | 23 | 23 |\n",
       "| 8 | 26 | 26 |\n",
       "\n"
      ],
      "text/plain": [
       "  position muster_generiert muster_sequenz\n",
       "1 1         5                5            \n",
       "2 2         8                8            \n",
       "3 3        11               11            \n",
       "4 4        14               14            \n",
       "5 5        17               17            \n",
       "6 6        20               20            \n",
       "7 7        23               23            \n",
       "8 8        26               26            "
      ]
     },
     "metadata": {},
     "output_type": "display_data"
    }
   ],
   "source": [
    "tibble(position = 1:8) %>% \n",
    "    mutate(muster_generiert = 3*position + 2, \n",
    "           muster_sequenz = seq(5, by = 3, length.out = length(position)))"
   ]
  },
  {
   "cell_type": "code",
   "execution_count": null,
   "metadata": {},
   "outputs": [],
   "source": []
  }
 ],
 "metadata": {
  "kernelspec": {
   "display_name": "R",
   "language": "R",
   "name": "ir"
  },
  "language_info": {
   "codemirror_mode": "r",
   "file_extension": ".r",
   "mimetype": "text/x-r-source",
   "name": "R",
   "pygments_lexer": "r",
   "version": "3.6.3"
  }
 },
 "nbformat": 4,
 "nbformat_minor": 4
}
